{
 "cells": [
  {
   "cell_type": "code",
   "execution_count": 1,
   "metadata": {
    "application/vnd.databricks.v1+cell": {
     "cellMetadata": {
      "byteLimit": 2048000,
      "rowLimit": 10000
     },
     "inputWidgets": {},
     "nuid": "19a22c2a-59ed-4a68-9d8e-5d03e21420a3",
     "showTitle": false,
     "title": ""
    }
   },
   "outputs": [],
   "source": [
    "data_path = \"src/resources/data/credit_card.csv\""
   ]
  },
  {
   "cell_type": "code",
   "execution_count": 2,
   "metadata": {
    "application/vnd.databricks.v1+cell": {
     "cellMetadata": {
      "byteLimit": 2048000,
      "rowLimit": 10000
     },
     "inputWidgets": {},
     "nuid": "26b77078-c4a8-4b4e-9384-7b5691b68f95",
     "showTitle": false,
     "title": ""
    }
   },
   "outputs": [
    {
     "name": "stderr",
     "output_type": "stream",
     "text": [
      "24/08/26 10:08:18 WARN Utils: Your hostname, dvadmin-ThinkPad-E480 resolves to a loopback address: 127.0.1.1; using 192.168.0.15 instead (on interface wlp5s0)\n",
      "24/08/26 10:08:18 WARN Utils: Set SPARK_LOCAL_IP if you need to bind to another address\n",
      "Setting default log level to \"WARN\".\n",
      "To adjust logging level use sc.setLogLevel(newLevel). For SparkR, use setLogLevel(newLevel).\n",
      "24/08/26 10:08:29 WARN NativeCodeLoader: Unable to load native-hadoop library for your platform... using builtin-java classes where applicable\n",
      "                                                                                \r"
     ]
    },
    {
     "name": "stdout",
     "output_type": "stream",
     "text": [
      "+---------+-----------------+------------+------+---------------+---------------+--------------+---------------+-------------+--------------+------------------------+----------------------+---------------------+------------+-------------------+---------------+--------------------+---------------+--------------+-------------------+---------------------+----------------------------------------------------------------------------------------------------------------------------------+----------------------------------------------------------------------------------------------------------------------------------+\n",
      "|CLIENTNUM|   Attrition_Flag|Customer_Age|Gender|Dependent_count|Education_Level|Marital_Status|Income_Category|Card_Category|Months_on_book|Total_Relationship_Count|Months_Inactive_12_mon|Contacts_Count_12_mon|Credit_Limit|Total_Revolving_Bal|Avg_Open_To_Buy|Total_Amt_Chng_Q4_Q1|Total_Trans_Amt|Total_Trans_Ct|Total_Ct_Chng_Q4_Q1|Avg_Utilization_Ratio|Naive_Bayes_Classifier_Attrition_Flag_Card_Category_Contacts_Count_12_mon_Dependent_count_Education_Level_Months_Inactive_12_mon_1|Naive_Bayes_Classifier_Attrition_Flag_Card_Category_Contacts_Count_12_mon_Dependent_count_Education_Level_Months_Inactive_12_mon_2|\n",
      "+---------+-----------------+------------+------+---------------+---------------+--------------+---------------+-------------+--------------+------------------------+----------------------+---------------------+------------+-------------------+---------------+--------------------+---------------+--------------+-------------------+---------------------+----------------------------------------------------------------------------------------------------------------------------------+----------------------------------------------------------------------------------------------------------------------------------+\n",
      "|768805383|Existing Customer|          45|     M|              3|    High School|       Married|    $60K - $80K|         Blue|            39|                       5|                     1|                    3|       12691|                777|          11914|               1.335|           1144|            42|              1.625|                0.061|                                                                                                                        9.3448e-05|                                                                                                                           0.99991|\n",
      "|818770008|Existing Customer|          49|     F|              5|       Graduate|        Single| Less than $40K|         Blue|            44|                       6|                     1|                    2|        8256|                864|           7392|               1.541|           1291|            33|              3.714|                0.105|                                                                                                                        5.6861e-05|                                                                                                                           0.99994|\n",
      "|713982108|Existing Customer|          51|     M|              3|       Graduate|       Married|   $80K - $120K|         Blue|            36|                       4|                     1|                    0|        3418|                  0|           3418|               2.594|           1887|            20|              2.333|                    0|                                                                                                                        2.1081e-05|                                                                                                                           0.99998|\n",
      "|769911858|Existing Customer|          40|     F|              4|    High School|       Unknown| Less than $40K|         Blue|            34|                       3|                     4|                    1|        3313|               2517|            796|               1.405|           1171|            20|              2.333|                 0.76|                                                                                                                        0.00013366|                                                                                                                           0.99987|\n",
      "|709106358|Existing Customer|          40|     M|              3|     Uneducated|       Married|    $60K - $80K|         Blue|            21|                       5|                     1|                    0|        4716|                  0|           4716|               2.175|            816|            28|                2.5|                    0|                                                                                                                        2.1676e-05|                                                                                                                           0.99998|\n",
      "+---------+-----------------+------------+------+---------------+---------------+--------------+---------------+-------------+--------------+------------------------+----------------------+---------------------+------------+-------------------+---------------+--------------------+---------------+--------------+-------------------+---------------------+----------------------------------------------------------------------------------------------------------------------------------+----------------------------------------------------------------------------------------------------------------------------------+\n",
      "\n"
     ]
    }
   ],
   "source": [
    "from pyspark.sql import SparkSession\n",
    "\n",
    "spark = SparkSession.builder.appName(\"customer_look_alike_modelling\").getOrCreate()\n",
    "df = spark.read.option(\"header\", \"true\").csv(data_path)\n",
    "df.limit(5).show()"
   ]
  },
  {
   "cell_type": "code",
   "execution_count": 3,
   "metadata": {},
   "outputs": [
    {
     "name": "stdout",
     "output_type": "stream",
     "text": [
      "+-----------+-----------------+------------+------+---------------+---------------+--------------+---------------+-------------+--------------+------------------------+----------------------+---------------------+------------+-------------------+---------------+--------------------+---------------+--------------+-------------------+---------------------+\n",
      "|customer_id|   Attrition_Flag|Customer_Age|Gender|Dependent_count|Education_Level|Marital_Status|Income_Category|Card_Category|Months_on_book|Total_Relationship_Count|Months_Inactive_12_mon|Contacts_Count_12_mon|Credit_Limit|Total_Revolving_Bal|Avg_Open_To_Buy|Total_Amt_Chng_Q4_Q1|Total_Trans_Amt|Total_Trans_Ct|Total_Ct_Chng_Q4_Q1|Avg_Utilization_Ratio|\n",
      "+-----------+-----------------+------------+------+---------------+---------------+--------------+---------------+-------------+--------------+------------------------+----------------------+---------------------+------------+-------------------+---------------+--------------------+---------------+--------------+-------------------+---------------------+\n",
      "|  768805383|Existing Customer|          45|     M|              3|    High School|       Married|    $60K - $80K|         Blue|            39|                       5|                     1|                    3|       12691|                777|          11914|               1.335|           1144|            42|              1.625|                0.061|\n",
      "|  818770008|Existing Customer|          49|     F|              5|       Graduate|        Single| Less than $40K|         Blue|            44|                       6|                     1|                    2|        8256|                864|           7392|               1.541|           1291|            33|              3.714|                0.105|\n",
      "|  713982108|Existing Customer|          51|     M|              3|       Graduate|       Married|   $80K - $120K|         Blue|            36|                       4|                     1|                    0|        3418|                  0|           3418|               2.594|           1887|            20|              2.333|                    0|\n",
      "|  769911858|Existing Customer|          40|     F|              4|    High School|       Unknown| Less than $40K|         Blue|            34|                       3|                     4|                    1|        3313|               2517|            796|               1.405|           1171|            20|              2.333|                 0.76|\n",
      "|  709106358|Existing Customer|          40|     M|              3|     Uneducated|       Married|    $60K - $80K|         Blue|            21|                       5|                     1|                    0|        4716|                  0|           4716|               2.175|            816|            28|                2.5|                    0|\n",
      "|  713061558|Existing Customer|          44|     M|              2|       Graduate|       Married|    $40K - $60K|         Blue|            36|                       3|                     1|                    2|        4010|               1247|           2763|               1.376|           1088|            24|              0.846|                0.311|\n",
      "|  810347208|Existing Customer|          51|     M|              4|        Unknown|       Married|        $120K +|         Gold|            46|                       6|                     1|                    3|       34516|               2264|          32252|               1.975|           1330|            31|              0.722|                0.066|\n",
      "|  818906208|Existing Customer|          32|     M|              0|    High School|       Unknown|    $60K - $80K|       Silver|            27|                       2|                     2|                    2|       29081|               1396|          27685|               2.204|           1538|            36|              0.714|                0.048|\n",
      "|  710930508|Existing Customer|          37|     M|              3|     Uneducated|        Single|    $60K - $80K|         Blue|            36|                       5|                     2|                    0|       22352|               2517|          19835|               3.355|           1350|            24|              1.182|                0.113|\n",
      "|  719661558|Existing Customer|          48|     M|              2|       Graduate|        Single|   $80K - $120K|         Blue|            36|                       6|                     3|                    3|       11656|               1677|           9979|               1.524|           1441|            32|              0.882|                0.144|\n",
      "|  708790833|Existing Customer|          42|     M|              5|     Uneducated|       Unknown|        $120K +|         Blue|            31|                       5|                     3|                    2|        6748|               1467|           5281|               0.831|           1201|            42|               0.68|                0.217|\n",
      "|  710821833|Existing Customer|          65|     M|              1|        Unknown|       Married|    $40K - $60K|         Blue|            54|                       6|                     2|                    3|        9095|               1587|           7508|               1.433|           1314|            26|              1.364|                0.174|\n",
      "|  710599683|Existing Customer|          56|     M|              1|        College|        Single|   $80K - $120K|         Blue|            36|                       3|                     6|                    0|       11751|                  0|          11751|               3.397|           1539|            17|               3.25|                    0|\n",
      "|  816082233|Existing Customer|          35|     M|              3|       Graduate|       Unknown|    $60K - $80K|         Blue|            30|                       5|                     1|                    3|        8547|               1666|           6881|               1.163|           1311|            33|                  2|                0.195|\n",
      "|  712396908|Existing Customer|          57|     F|              2|       Graduate|       Married| Less than $40K|         Blue|            48|                       5|                     2|                    2|        2436|                680|           1756|                1.19|           1570|            29|              0.611|                0.279|\n",
      "|  714885258|Existing Customer|          44|     M|              4|        Unknown|       Unknown|   $80K - $120K|         Blue|            37|                       5|                     1|                    2|        4234|                972|           3262|               1.707|           1348|            27|                1.7|                 0.23|\n",
      "|  709967358|Existing Customer|          48|     M|              4|  Post-Graduate|        Single|   $80K - $120K|         Blue|            36|                       6|                     2|                    3|       30367|               2362|          28005|               1.708|           1671|            27|              0.929|                0.078|\n",
      "|  753327333|Existing Customer|          41|     M|              3|        Unknown|       Married|   $80K - $120K|         Blue|            34|                       4|                     4|                    1|       13535|               1291|          12244|               0.653|           1028|            21|              1.625|                0.095|\n",
      "|  806160108|Existing Customer|          61|     M|              1|    High School|       Married|    $40K - $60K|         Blue|            56|                       2|                     2|                    3|        3193|               2517|            676|               1.831|           1336|            30|              1.143|                0.788|\n",
      "|  709327383|Existing Customer|          45|     F|              2|       Graduate|       Married|        Unknown|         Blue|            37|                       6|                     1|                    2|       14470|               1157|          13313|               0.966|           1207|            21|              0.909|                 0.08|\n",
      "+-----------+-----------------+------------+------+---------------+---------------+--------------+---------------+-------------+--------------+------------------------+----------------------+---------------------+------------+-------------------+---------------+--------------------+---------------+--------------+-------------------+---------------------+\n",
      "only showing top 20 rows\n",
      "\n"
     ]
    }
   ],
   "source": [
    "from pyspark.sql import functions as F\n",
    "from pyspark.sql.types import IntegerType\n",
    "df = df.withColumnRenamed(\"CLIENTNUM\", \"customer_id\")\n",
    "df = df.drop(\"Naive_Bayes_Classifier_Attrition_Flag_Card_Category_Contacts_Count_12_mon_Dependent_count_Education_Level_Months_Inactive_12_mon_2\")\n",
    "df = df.drop(\"Naive_Bayes_Classifier_Attrition_Flag_Card_Category_Contacts_Count_12_mon_Dependent_count_Education_Level_Months_Inactive_12_mon_1\")\n",
    "df.show()\n"
   ]
  },
  {
   "cell_type": "code",
   "execution_count": 4,
   "metadata": {},
   "outputs": [
    {
     "data": {
      "text/plain": [
       "['customer_id',\n",
       " 'Attrition_Flag',\n",
       " 'Customer_Age',\n",
       " 'Gender',\n",
       " 'Dependent_count',\n",
       " 'Education_Level',\n",
       " 'Marital_Status',\n",
       " 'Income_Category',\n",
       " 'Card_Category',\n",
       " 'Months_on_book',\n",
       " 'Total_Relationship_Count',\n",
       " 'Months_Inactive_12_mon',\n",
       " 'Contacts_Count_12_mon',\n",
       " 'Credit_Limit',\n",
       " 'Total_Revolving_Bal',\n",
       " 'Avg_Open_To_Buy',\n",
       " 'Total_Amt_Chng_Q4_Q1',\n",
       " 'Total_Trans_Amt',\n",
       " 'Total_Trans_Ct',\n",
       " 'Total_Ct_Chng_Q4_Q1',\n",
       " 'Avg_Utilization_Ratio']"
      ]
     },
     "execution_count": 4,
     "metadata": {},
     "output_type": "execute_result"
    }
   ],
   "source": [
    "df.columns"
   ]
  },
  {
   "cell_type": "code",
   "execution_count": 5,
   "metadata": {
    "application/vnd.databricks.v1+cell": {
     "cellMetadata": {
      "byteLimit": 2048000,
      "rowLimit": 10000
     },
     "inputWidgets": {},
     "nuid": "70064537-447a-48f3-ad94-580c876ecc8e",
     "showTitle": false,
     "title": ""
    }
   },
   "outputs": [
    {
     "data": {
      "text/plain": [
       "['Customer_Age',\n",
       " 'Gender',\n",
       " 'Dependent_count',\n",
       " 'Education_Level',\n",
       " 'Marital_Status',\n",
       " 'Income_Category',\n",
       " 'Card_Category',\n",
       " 'Months_on_book',\n",
       " 'Total_Relationship_Count',\n",
       " 'Months_Inactive_12_mon',\n",
       " 'Contacts_Count_12_mon',\n",
       " 'Credit_Limit',\n",
       " 'Total_Revolving_Bal',\n",
       " 'Avg_Open_To_Buy',\n",
       " 'Total_Amt_Chng_Q4_Q1',\n",
       " 'Total_Trans_Amt',\n",
       " 'Total_Trans_Ct',\n",
       " 'Total_Ct_Chng_Q4_Q1',\n",
       " 'Avg_Utilization_Ratio']"
      ]
     },
     "execution_count": 5,
     "metadata": {},
     "output_type": "execute_result"
    }
   ],
   "source": [
    "\n",
    "# rename to cols_to_convert\n",
    "# rows_to_convert = \"job_titles_cont,city_pl\".split(\",\")\n",
    "rows_to_convert = df.columns\n",
    "rows_to_convert.remove(\"customer_id\")\n",
    "rows_to_convert.remove(\"Attrition_Flag\")\n",
    "rows_to_convert"
   ]
  },
  {
   "cell_type": "code",
   "execution_count": 6,
   "metadata": {},
   "outputs": [
    {
     "data": {
      "text/plain": [
       "'Customer_Age,Gender,Dependent_count,Education_Level,Marital_Status,Income_Category,Card_Category,Months_on_book,Total_Relationship_Count,Months_Inactive_12_mon,Contacts_Count_12_mon,Credit_Limit,Total_Revolving_Bal,Avg_Open_To_Buy,Total_Amt_Chng_Q4_Q1,Total_Trans_Amt,Total_Trans_Ct,Total_Ct_Chng_Q4_Q1,Avg_Utilization_Ratio'"
      ]
     },
     "execution_count": 6,
     "metadata": {},
     "output_type": "execute_result"
    }
   ],
   "source": [
    "\",\".join(rows_to_convert)"
   ]
  },
  {
   "cell_type": "code",
   "execution_count": 7,
   "metadata": {},
   "outputs": [
    {
     "name": "stderr",
     "output_type": "stream",
     "text": [
      "                                                                                \r"
     ]
    },
    {
     "data": {
      "text/plain": [
       "10127"
      ]
     },
     "execution_count": 7,
     "metadata": {},
     "output_type": "execute_result"
    }
   ],
   "source": [
    "df.count()"
   ]
  },
  {
   "cell_type": "code",
   "execution_count": 8,
   "metadata": {},
   "outputs": [
    {
     "name": "stderr",
     "output_type": "stream",
     "text": [
      "/home/dvadmin/look_alike_modelling_streamlit/venv/lib/python3.10/site-packages/tqdm/auto.py:21: TqdmWarning: IProgress not found. Please update jupyter and ipywidgets. See https://ipywidgets.readthedocs.io/en/stable/user_install.html\n",
      "  from .autonotebook import tqdm as notebook_tqdm\n",
      "/home/dvadmin/look_alike_modelling_streamlit/venv/lib/python3.10/site-packages/transformers/tokenization_utils_base.py:1601: FutureWarning: `clean_up_tokenization_spaces` was not set. It will be set to `True` by default. This behavior will be depracted in transformers v4.45, and will be then set to `False` by default. For more details check this issue: https://github.com/huggingface/transformers/issues/31884\n",
      "  warnings.warn(\n"
     ]
    }
   ],
   "source": [
    "from src.utils.functions import get_row_as_text, hf_embeddings, get_ars_retrieved_df\n",
    "train_df = get_row_as_text(df, rows_to_convert)"
   ]
  },
  {
   "cell_type": "code",
   "execution_count": null,
   "metadata": {},
   "outputs": [],
   "source": []
  },
  {
   "cell_type": "code",
   "execution_count": 9,
   "metadata": {
    "application/vnd.databricks.v1+cell": {
     "cellMetadata": {
      "byteLimit": 2048000,
      "rowLimit": 10000
     },
     "inputWidgets": {},
     "nuid": "bb2ae051-0b66-4773-8c61-c9df8cc533eb",
     "showTitle": false,
     "title": ""
    }
   },
   "outputs": [
    {
     "name": "stdout",
     "output_type": "stream",
     "text": [
      "+------------------------------------------------------------------------------------------------------------------------------------------------------------------------------------------------------------------------------------------------------------------------------------------------------------------------------------------------------------------------------------------------------------------------------------------------------------------------+\n",
      "|row_as_text                                                                                                                                                                                                                                                                                                                                                                                                                                                             |\n",
      "+------------------------------------------------------------------------------------------------------------------------------------------------------------------------------------------------------------------------------------------------------------------------------------------------------------------------------------------------------------------------------------------------------------------------------------------------------------------------+\n",
      "|Customer_Age: 45; Gender: M; Dependent_count: 3; Education_Level: High School; Marital_Status: Married; Income_Category: $60K - $80K; Card_Category: Blue; Months_on_book: 39; Total_Relationship_Count: 5; Months_Inactive_12_mon: 1; Contacts_Count_12_mon: 3; Credit_Limit: 12691; Total_Revolving_Bal: 777; Avg_Open_To_Buy: 11914; Total_Amt_Chng_Q4_Q1: 1.335; Total_Trans_Amt: 1144; Total_Trans_Ct: 42; Total_Ct_Chng_Q4_Q1: 1.625; Avg_Utilization_Ratio: 0.061|\n",
      "|Customer_Age: 49; Gender: F; Dependent_count: 5; Education_Level: Graduate; Marital_Status: Single; Income_Category: Less than $40K; Card_Category: Blue; Months_on_book: 44; Total_Relationship_Count: 6; Months_Inactive_12_mon: 1; Contacts_Count_12_mon: 2; Credit_Limit: 8256; Total_Revolving_Bal: 864; Avg_Open_To_Buy: 7392; Total_Amt_Chng_Q4_Q1: 1.541; Total_Trans_Amt: 1291; Total_Trans_Ct: 33; Total_Ct_Chng_Q4_Q1: 3.714; Avg_Utilization_Ratio: 0.105   |\n",
      "+------------------------------------------------------------------------------------------------------------------------------------------------------------------------------------------------------------------------------------------------------------------------------------------------------------------------------------------------------------------------------------------------------------------------------------------------------------------------+\n",
      "only showing top 2 rows\n",
      "\n"
     ]
    }
   ],
   "source": [
    "train_df.select(\"row_as_text\").show(2, truncate=False)"
   ]
  },
  {
   "cell_type": "code",
   "execution_count": 10,
   "metadata": {
    "application/vnd.databricks.v1+cell": {
     "cellMetadata": {
      "byteLimit": 2048000,
      "rowLimit": 10000
     },
     "inputWidgets": {},
     "nuid": "b9417325-8389-445a-91c8-23a24ab14737",
     "showTitle": false,
     "title": ""
    }
   },
   "outputs": [
    {
     "name": "stdout",
     "output_type": "stream",
     "text": [
      "root\n",
      " |-- customer_id: string (nullable = true)\n",
      " |-- Attrition_Flag: string (nullable = true)\n",
      " |-- Customer_Age: string (nullable = true)\n",
      " |-- Gender: string (nullable = true)\n",
      " |-- Dependent_count: string (nullable = true)\n",
      " |-- Education_Level: string (nullable = true)\n",
      " |-- Marital_Status: string (nullable = true)\n",
      " |-- Income_Category: string (nullable = true)\n",
      " |-- Card_Category: string (nullable = true)\n",
      " |-- Months_on_book: string (nullable = true)\n",
      " |-- Total_Relationship_Count: string (nullable = true)\n",
      " |-- Months_Inactive_12_mon: string (nullable = true)\n",
      " |-- Contacts_Count_12_mon: string (nullable = true)\n",
      " |-- Credit_Limit: string (nullable = true)\n",
      " |-- Total_Revolving_Bal: string (nullable = true)\n",
      " |-- Avg_Open_To_Buy: string (nullable = true)\n",
      " |-- Total_Amt_Chng_Q4_Q1: string (nullable = true)\n",
      " |-- Total_Trans_Amt: string (nullable = true)\n",
      " |-- Total_Trans_Ct: string (nullable = true)\n",
      " |-- Total_Ct_Chng_Q4_Q1: string (nullable = true)\n",
      " |-- Avg_Utilization_Ratio: string (nullable = true)\n",
      " |-- row_as_text: string (nullable = false)\n",
      "\n"
     ]
    }
   ],
   "source": [
    "train_df.printSchema()"
   ]
  },
  {
   "cell_type": "code",
   "execution_count": null,
   "metadata": {
    "application/vnd.databricks.v1+cell": {
     "cellMetadata": {
      "byteLimit": 2048000,
      "rowLimit": 10000
     },
     "inputWidgets": {},
     "nuid": "089d7000-fd73-4657-a2fd-30e6059d0083",
     "showTitle": false,
     "title": ""
    }
   },
   "outputs": [],
   "source": []
  },
  {
   "cell_type": "code",
   "execution_count": 11,
   "metadata": {
    "application/vnd.databricks.v1+cell": {
     "cellMetadata": {
      "byteLimit": 2048000,
      "rowLimit": 10000
     },
     "inputWidgets": {},
     "nuid": "7a7d024e-68b2-4501-baaf-0255e7470c0d",
     "showTitle": false,
     "title": ""
    }
   },
   "outputs": [
    {
     "name": "stderr",
     "output_type": "stream",
     "text": [
      "                                                                                \r"
     ]
    },
    {
     "data": {
      "text/plain": [
       "Row(customer_id='768805383', Attrition_Flag='Existing Customer', Customer_Age='45', Gender='M', Dependent_count='3', Education_Level='High School', Marital_Status='Married', Income_Category='$60K - $80K', Card_Category='Blue', Months_on_book='39', Total_Relationship_Count='5', Months_Inactive_12_mon='1', Contacts_Count_12_mon='3', Credit_Limit='12691', Total_Revolving_Bal='777', Avg_Open_To_Buy='11914', Total_Amt_Chng_Q4_Q1='1.335', Total_Trans_Amt='1144', Total_Trans_Ct='42', Total_Ct_Chng_Q4_Q1='1.625', Avg_Utilization_Ratio='0.061', row_as_text='Customer_Age: 45; Gender: M; Dependent_count: 3; Education_Level: High School; Marital_Status: Married; Income_Category: $60K - $80K; Card_Category: Blue; Months_on_book: 39; Total_Relationship_Count: 5; Months_Inactive_12_mon: 1; Contacts_Count_12_mon: 3; Credit_Limit: 12691; Total_Revolving_Bal: 777; Avg_Open_To_Buy: 11914; Total_Amt_Chng_Q4_Q1: 1.335; Total_Trans_Amt: 1144; Total_Trans_Ct: 42; Total_Ct_Chng_Q4_Q1: 1.625; Avg_Utilization_Ratio: 0.061')"
      ]
     },
     "execution_count": 11,
     "metadata": {},
     "output_type": "execute_result"
    }
   ],
   "source": [
    "step = 1000\n",
    "k = 4000\n",
    "\n",
    "texts_list = train_df.rdd.collect()\n",
    "# texts_list = [x[0] for x in texts_label_list]\n",
    "# texts_list\n",
    "texts_list[0]"
   ]
  },
  {
   "cell_type": "code",
   "execution_count": 12,
   "metadata": {},
   "outputs": [],
   "source": [
    "import os\n",
    "\n",
    "# Specify the path of the directory you want to create\n",
    "db_dir = \"src/resources/embeddings/credit\"\n",
    "\n",
    "# Create the directory\n",
    "os.makedirs(db_dir, exist_ok=True)"
   ]
  },
  {
   "cell_type": "code",
   "execution_count": 13,
   "metadata": {},
   "outputs": [
    {
     "ename": "AttributeError",
     "evalue": "module 'chromadb' has no attribute 'PersistentClient'",
     "output_type": "error",
     "traceback": [
      "\u001b[0;31m---------------------------------------------------------------------------\u001b[0m",
      "\u001b[0;31mAttributeError\u001b[0m                            Traceback (most recent call last)",
      "Cell \u001b[0;32mIn[13], line 6\u001b[0m\n\u001b[1;32m      3\u001b[0m \u001b[38;5;28;01mimport\u001b[39;00m \u001b[38;5;21;01mchromadb\u001b[39;00m\n\u001b[1;32m      4\u001b[0m \u001b[38;5;28;01mimport\u001b[39;00m \u001b[38;5;21;01mos\u001b[39;00m\n\u001b[0;32m----> 6\u001b[0m client \u001b[38;5;241m=\u001b[39m \u001b[43mchromadb\u001b[49m\u001b[38;5;241;43m.\u001b[39;49m\u001b[43mPersistentClient\u001b[49m(path\u001b[38;5;241m=\u001b[39mdb_dir)\n\u001b[1;32m      8\u001b[0m vdb \u001b[38;5;241m=\u001b[39m Chroma(persist_directory\u001b[38;5;241m=\u001b[39mdb_dir, embedding_function\u001b[38;5;241m=\u001b[39mhf_embeddings,\n\u001b[1;32m      9\u001b[0m                  collection_metadata\u001b[38;5;241m=\u001b[39m{\u001b[38;5;124m\"\u001b[39m\u001b[38;5;124mhnsw:space\u001b[39m\u001b[38;5;124m\"\u001b[39m: \u001b[38;5;124m\"\u001b[39m\u001b[38;5;124mcosine\u001b[39m\u001b[38;5;124m\"\u001b[39m}, client\u001b[38;5;241m=\u001b[39mclient)\n",
      "\u001b[0;31mAttributeError\u001b[0m: module 'chromadb' has no attribute 'PersistentClient'"
     ]
    }
   ],
   "source": [
    "from langchain.vectorstores import Chroma\n",
    "from src.utils.functions import hf_embeddings\n",
    "import chromadb\n",
    "import os\n",
    "\n",
    "client = chromadb.PersistentClient(path=db_dir)\n",
    "\n",
    "vdb = Chroma(persist_directory=db_dir, embedding_function=hf_embeddings,\n",
    "                 collection_metadata={\"hnsw:space\": \"cosine\"}, client=client)"
   ]
  },
  {
   "cell_type": "code",
   "execution_count": 14,
   "metadata": {
    "application/vnd.databricks.v1+cell": {
     "cellMetadata": {
      "byteLimit": 2048000,
      "rowLimit": 10000
     },
     "inputWidgets": {},
     "nuid": "51e8522a-c532-4a1b-8352-c027c0a875f6",
     "showTitle": false,
     "title": ""
    }
   },
   "outputs": [],
   "source": [
    "from langchain.vectorstores import Chroma\n",
    "vdb = Chroma(persist_directory=db_dir, embedding_function=hf_embeddings, collection_metadata={\"hnsw:space\": \"cosine\"})\n",
    "for i in range(0, len(texts_list), step):\n",
    "    texts = [x.row_as_text for x in texts_list[i:i+step]]\n",
    "    metadata = [{\"customer_id\": str(x.customer_id)} for x in texts_list[i:i+step]]\n",
    "    vdb.add_texts(texts, metadata)\n",
    "    vdb.persist()"
   ]
  },
  {
   "cell_type": "code",
   "execution_count": 40,
   "metadata": {},
   "outputs": [],
   "source": [
    "from langchain.vectorstores import Chroma\n",
    "from src.utils.functions import hf_embeddings\n",
    "import chromadb\n",
    "\n",
    "client = chromadb.PersistentClient(path=db_dir)\n",
    "\n",
    "vdb = Chroma(persist_directory=db_dir, embedding_function=hf_embeddings,\n",
    "                 collection_metadata={\"hnsw:space\": \"cosine\"}, client=client)"
   ]
  },
  {
   "cell_type": "code",
   "execution_count": 16,
   "metadata": {},
   "outputs": [
    {
     "data": {
      "text/plain": [
       "10127"
      ]
     },
     "execution_count": 16,
     "metadata": {},
     "output_type": "execute_result"
    }
   ],
   "source": [
    "vdb._collection.count()"
   ]
  },
  {
   "cell_type": "code",
   "execution_count": 42,
   "metadata": {},
   "outputs": [
    {
     "data": {
      "text/plain": [
       "10127"
      ]
     },
     "execution_count": 42,
     "metadata": {},
     "output_type": "execute_result"
    }
   ],
   "source": [
    "train_df.count()"
   ]
  },
  {
   "cell_type": "code",
   "execution_count": null,
   "metadata": {},
   "outputs": [],
   "source": []
  },
  {
   "cell_type": "code",
   "execution_count": 22,
   "metadata": {},
   "outputs": [],
   "source": []
  },
  {
   "cell_type": "code",
   "execution_count": 24,
   "metadata": {},
   "outputs": [],
   "source": []
  },
  {
   "cell_type": "code",
   "execution_count": 44,
   "metadata": {},
   "outputs": [],
   "source": [
    "df.drop(\"Attrition_Flag\").toPandas().to_csv(\"src/resources/data/credit_master.csv\", header=True, index=False)"
   ]
  },
  {
   "cell_type": "code",
   "execution_count": 43,
   "metadata": {},
   "outputs": [
    {
     "name": "stdout",
     "output_type": "stream",
     "text": [
      "+-----------------+-----+\n",
      "|   Attrition_Flag|count|\n",
      "+-----------------+-----+\n",
      "|Existing Customer| 8500|\n",
      "|Attrited Customer| 1627|\n",
      "+-----------------+-----+\n",
      "\n"
     ]
    }
   ],
   "source": [
    "df.groupBy(\"Attrition_Flag\").count().show()"
   ]
  },
  {
   "cell_type": "code",
   "execution_count": 6,
   "metadata": {},
   "outputs": [
    {
     "name": "stdout",
     "output_type": "stream",
     "text": [
      "+-----------+------------+------+---------------+---------------+--------------+---------------+-------------+--------------+------------------------+----------------------+---------------------+------------+-------------------+---------------+--------------------+---------------+--------------+-------------------+---------------------+\n",
      "|customer_id|Customer_Age|Gender|Dependent_count|Education_Level|Marital_Status|Income_Category|Card_Category|Months_on_book|Total_Relationship_Count|Months_Inactive_12_mon|Contacts_Count_12_mon|Credit_Limit|Total_Revolving_Bal|Avg_Open_To_Buy|Total_Amt_Chng_Q4_Q1|Total_Trans_Amt|Total_Trans_Ct|Total_Ct_Chng_Q4_Q1|Avg_Utilization_Ratio|\n",
      "+-----------+------------+------+---------------+---------------+--------------+---------------+-------------+--------------+------------------------+----------------------+---------------------+------------+-------------------+---------------+--------------------+---------------+--------------+-------------------+---------------------+\n",
      "|  708508758|          62|     F|              0|       Graduate|       Married| Less than $40K|         Blue|            49|                       2|                     3|                    3|      1438.3|                  0|         1438.3|               1.047|            692|            16|                0.6|                    0|\n",
      "|  708300483|          66|     F|              0|      Doctorate|       Married|        Unknown|         Blue|            56|                       5|                     4|                    3|        7882|                605|           7277|               1.052|            704|            16|              0.143|                0.077|\n",
      "|  779471883|          54|     F|              1|       Graduate|       Married| Less than $40K|         Blue|            40|                       2|                     3|                    1|      1438.3|                808|          630.3|               0.997|            705|            19|                0.9|                0.562|\n",
      "|  714374133|          56|     M|              2|       Graduate|       Married|        $120K +|         Blue|            36|                       1|                     3|                    3|       15769|                  0|          15769|               1.041|            602|            15|              0.364|                    0|\n",
      "|  712030833|          48|     M|              2|       Graduate|       Married|    $60K - $80K|       Silver|            35|                       2|                     4|                    4|       34516|                  0|          34516|               0.763|            691|            15|                0.5|                    0|\n",
      "|  711013983|          55|     F|              4|        Unknown|       Married|    $40K - $60K|         Blue|            45|                       2|                     4|                    3|        2158|                  0|           2158|               0.585|            615|            12|              0.714|                    0|\n",
      "|  711887583|          47|     M|              2|        Unknown|       Married|   $80K - $120K|         Blue|            37|                       2|                     3|                    3|        5449|               1628|           3821|               0.696|            836|            18|              0.385|                0.299|\n",
      "|  720201033|          53|     M|              2|       Graduate|       Married|   $80K - $120K|         Blue|            41|                       3|                     3|                    2|       11669|               2227|           9442|               0.622|            720|            23|              0.353|                0.191|\n",
      "|  789322833|          48|     F|              5|    High School|       Married| Less than $40K|         Blue|            38|                       1|                     3|                    3|        8025|                  0|           8025|               0.654|            673|            18|                0.8|                    0|\n",
      "|  767712558|          59|     M|              1|        College|        Single|    $60K - $80K|         Blue|            53|                       2|                     3|                    3|       14979|                  0|          14979|                0.71|            530|            10|                  1|                    0|\n",
      "|  712950783|          48|     F|              4|     Uneducated|       Married| Less than $40K|         Blue|            38|                       3|                     2|                    3|        2732|                  0|           2732|                0.76|            739|            16|              0.455|                    0|\n",
      "|  713741358|          46|     M|              5|       Graduate|        Single|   $80K - $120K|         Blue|            33|                       6|                     3|                    3|       32975|               2517|          30458|               0.658|            597|            17|                0.7|                0.076|\n",
      "|  708953883|          53|     M|              2|        Unknown|       Married|   $80K - $120K|         Blue|            36|                       2|                     2|                    1|        3212|                  0|           3212|               0.713|            757|            20|               0.25|                    0|\n",
      "|  708868233|          68|     M|              0|    High School|       Married| Less than $40K|         Blue|            52|                       1|                     3|                    2|      1438.3|                900|          538.3|               0.743|            760|            21|              0.615|                0.626|\n",
      "|  719808558|          55|     F|              2|       Graduate|       Married| Less than $40K|         Blue|            43|                       2|                     4|                    3|      1438.3|                  0|         1438.3|               0.707|            886|            27|              0.421|                    0|\n",
      "|  711551958|          59|     M|              2|  Post-Graduate|       Married|    $60K - $80K|         Blue|            46|                       3|                     3|                    3|      1438.3|                  0|         1438.3|               0.688|            844|            24|                0.5|                    0|\n",
      "|  772336458|          60|     F|              1|     Uneducated|       Married|    $40K - $60K|         Blue|            50|                       4|                     4|                    3|      1438.3|               1025|          413.3|               0.838|            702|            12|              0.714|                0.713|\n",
      "|  720997383|          52|     M|              1|     Uneducated|       Married|   $80K - $120K|         Blue|            36|                       2|                     3|                    3|        1857|               1833|             24|               0.723|            829|            17|                0.7|                0.987|\n",
      "|  710299608|          53|     F|              2|        Unknown|       Married| Less than $40K|         Blue|            33|                       2|                     3|                    3|        2859|               2517|            342|               0.993|            817|            30|              0.667|                 0.88|\n",
      "|  821797008|          49|     M|              5|        College|       Married|    $40K - $60K|         Blue|            45|                       2|                     2|                    3|      1438.3|                  0|         1438.3|               0.734|            815|            21|              0.615|                    0|\n",
      "+-----------+------------+------+---------------+---------------+--------------+---------------+-------------+--------------+------------------------+----------------------+---------------------+------------+-------------------+---------------+--------------------+---------------+--------------+-------------------+---------------------+\n",
      "only showing top 20 rows\n",
      "\n"
     ]
    }
   ],
   "source": [
    "df = spark.read.option(\"header\", \"true\").csv(\"src/resources/data/credit_test.csv\").drop(\"_c0\")\n",
    "df.show()"
   ]
  },
  {
   "cell_type": "code",
   "execution_count": 8,
   "metadata": {},
   "outputs": [
    {
     "ename": "AnalysisException",
     "evalue": "[UNRESOLVED_COLUMN.WITH_SUGGESTION] A column or function parameter with name `Attrition_Flag` cannot be resolved. Did you mean one of the following? [`Education_Level`, `Marital_Status`, `Credit_Limit`, `Customer_Age`, `Gender`].;\n'Filter ('Attrition_Flag = Attrited Customer)\n+- Project [customer_id#432, Customer_Age#433, Gender#434, Dependent_count#435, Education_Level#436, Marital_Status#437, Income_Category#438, Card_Category#439, Months_on_book#440, Total_Relationship_Count#441, Months_Inactive_12_mon#442, Contacts_Count_12_mon#443, Credit_Limit#444, Total_Revolving_Bal#445, Avg_Open_To_Buy#446, Total_Amt_Chng_Q4_Q1#447, Total_Trans_Amt#448, Total_Trans_Ct#449, Total_Ct_Chng_Q4_Q1#450, Avg_Utilization_Ratio#451]\n   +- Relation [_c0#431,customer_id#432,Customer_Age#433,Gender#434,Dependent_count#435,Education_Level#436,Marital_Status#437,Income_Category#438,Card_Category#439,Months_on_book#440,Total_Relationship_Count#441,Months_Inactive_12_mon#442,Contacts_Count_12_mon#443,Credit_Limit#444,Total_Revolving_Bal#445,Avg_Open_To_Buy#446,Total_Amt_Chng_Q4_Q1#447,Total_Trans_Amt#448,Total_Trans_Ct#449,Total_Ct_Chng_Q4_Q1#450,Avg_Utilization_Ratio#451] csv\n",
     "output_type": "error",
     "traceback": [
      "\u001b[0;31m---------------------------------------------------------------------------\u001b[0m",
      "\u001b[0;31mAnalysisException\u001b[0m                         Traceback (most recent call last)",
      "\u001b[0;32m/var/folders/g1/wqd2jbyj7v5cdjc49p0f_1200000gq/T/ipykernel_26809/590569950.py\u001b[0m in \u001b[0;36m<module>\u001b[0;34m\u001b[0m\n\u001b[1;32m      1\u001b[0m \u001b[0;32mfrom\u001b[0m \u001b[0mpyspark\u001b[0m\u001b[0;34m.\u001b[0m\u001b[0msql\u001b[0m \u001b[0;32mimport\u001b[0m \u001b[0mfunctions\u001b[0m \u001b[0;32mas\u001b[0m \u001b[0mF\u001b[0m\u001b[0;34m\u001b[0m\u001b[0;34m\u001b[0m\u001b[0m\n\u001b[0;32m----> 2\u001b[0;31m \u001b[0mdf\u001b[0m\u001b[0;34m.\u001b[0m\u001b[0mfilter\u001b[0m\u001b[0;34m(\u001b[0m\u001b[0mF\u001b[0m\u001b[0;34m.\u001b[0m\u001b[0mcol\u001b[0m\u001b[0;34m(\u001b[0m\u001b[0;34m\"Attrition_Flag\"\u001b[0m\u001b[0;34m)\u001b[0m \u001b[0;34m==\u001b[0m \u001b[0;34m\"Attrited Customer\"\u001b[0m\u001b[0;34m)\u001b[0m\u001b[0;34m.\u001b[0m\u001b[0mlimit\u001b[0m\u001b[0;34m(\u001b[0m\u001b[0;36m100\u001b[0m\u001b[0;34m)\u001b[0m\u001b[0;34m.\u001b[0m\u001b[0mdrop\u001b[0m\u001b[0;34m(\u001b[0m\u001b[0;34m\"Attrition_Flag\"\u001b[0m\u001b[0;34m)\u001b[0m\u001b[0;34m.\u001b[0m\u001b[0mtoPandas\u001b[0m\u001b[0;34m(\u001b[0m\u001b[0;34m)\u001b[0m\u001b[0;34m.\u001b[0m\u001b[0mto_csv\u001b[0m\u001b[0;34m(\u001b[0m\u001b[0;34m\"src/resources/data/credit_test.csv\"\u001b[0m\u001b[0;34m,\u001b[0m \u001b[0mheader\u001b[0m\u001b[0;34m=\u001b[0m\u001b[0;32mTrue\u001b[0m\u001b[0;34m,\u001b[0m \u001b[0mindex\u001b[0m\u001b[0;34m=\u001b[0m\u001b[0;32mFalse\u001b[0m\u001b[0;34m)\u001b[0m\u001b[0;34m\u001b[0m\u001b[0;34m\u001b[0m\u001b[0m\n\u001b[0m",
      "\u001b[0;32m/usr/local/anaconda3/lib/python3.9/site-packages/pyspark/sql/dataframe.py\u001b[0m in \u001b[0;36mfilter\u001b[0;34m(self, condition)\u001b[0m\n\u001b[1;32m   3323\u001b[0m             \u001b[0mjdf\u001b[0m \u001b[0;34m=\u001b[0m \u001b[0mself\u001b[0m\u001b[0;34m.\u001b[0m\u001b[0m_jdf\u001b[0m\u001b[0;34m.\u001b[0m\u001b[0mfilter\u001b[0m\u001b[0;34m(\u001b[0m\u001b[0mcondition\u001b[0m\u001b[0;34m)\u001b[0m\u001b[0;34m\u001b[0m\u001b[0;34m\u001b[0m\u001b[0m\n\u001b[1;32m   3324\u001b[0m         \u001b[0;32melif\u001b[0m \u001b[0misinstance\u001b[0m\u001b[0;34m(\u001b[0m\u001b[0mcondition\u001b[0m\u001b[0;34m,\u001b[0m \u001b[0mColumn\u001b[0m\u001b[0;34m)\u001b[0m\u001b[0;34m:\u001b[0m\u001b[0;34m\u001b[0m\u001b[0;34m\u001b[0m\u001b[0m\n\u001b[0;32m-> 3325\u001b[0;31m             \u001b[0mjdf\u001b[0m \u001b[0;34m=\u001b[0m \u001b[0mself\u001b[0m\u001b[0;34m.\u001b[0m\u001b[0m_jdf\u001b[0m\u001b[0;34m.\u001b[0m\u001b[0mfilter\u001b[0m\u001b[0;34m(\u001b[0m\u001b[0mcondition\u001b[0m\u001b[0;34m.\u001b[0m\u001b[0m_jc\u001b[0m\u001b[0;34m)\u001b[0m\u001b[0;34m\u001b[0m\u001b[0;34m\u001b[0m\u001b[0m\n\u001b[0m\u001b[1;32m   3326\u001b[0m         \u001b[0;32melse\u001b[0m\u001b[0;34m:\u001b[0m\u001b[0;34m\u001b[0m\u001b[0;34m\u001b[0m\u001b[0m\n\u001b[1;32m   3327\u001b[0m             raise PySparkTypeError(\n",
      "\u001b[0;32m/usr/local/anaconda3/lib/python3.9/site-packages/py4j/java_gateway.py\u001b[0m in \u001b[0;36m__call__\u001b[0;34m(self, *args)\u001b[0m\n\u001b[1;32m   1320\u001b[0m \u001b[0;34m\u001b[0m\u001b[0m\n\u001b[1;32m   1321\u001b[0m         \u001b[0manswer\u001b[0m \u001b[0;34m=\u001b[0m \u001b[0mself\u001b[0m\u001b[0;34m.\u001b[0m\u001b[0mgateway_client\u001b[0m\u001b[0;34m.\u001b[0m\u001b[0msend_command\u001b[0m\u001b[0;34m(\u001b[0m\u001b[0mcommand\u001b[0m\u001b[0;34m)\u001b[0m\u001b[0;34m\u001b[0m\u001b[0;34m\u001b[0m\u001b[0m\n\u001b[0;32m-> 1322\u001b[0;31m         return_value = get_return_value(\n\u001b[0m\u001b[1;32m   1323\u001b[0m             answer, self.gateway_client, self.target_id, self.name)\n\u001b[1;32m   1324\u001b[0m \u001b[0;34m\u001b[0m\u001b[0m\n",
      "\u001b[0;32m/usr/local/anaconda3/lib/python3.9/site-packages/pyspark/errors/exceptions/captured.py\u001b[0m in \u001b[0;36mdeco\u001b[0;34m(*a, **kw)\u001b[0m\n\u001b[1;32m    183\u001b[0m                 \u001b[0;31m# Hide where the exception came from that shows a non-Pythonic\u001b[0m\u001b[0;34m\u001b[0m\u001b[0;34m\u001b[0m\u001b[0m\n\u001b[1;32m    184\u001b[0m                 \u001b[0;31m# JVM exception message.\u001b[0m\u001b[0;34m\u001b[0m\u001b[0;34m\u001b[0m\u001b[0m\n\u001b[0;32m--> 185\u001b[0;31m                 \u001b[0;32mraise\u001b[0m \u001b[0mconverted\u001b[0m \u001b[0;32mfrom\u001b[0m \u001b[0;32mNone\u001b[0m\u001b[0;34m\u001b[0m\u001b[0;34m\u001b[0m\u001b[0m\n\u001b[0m\u001b[1;32m    186\u001b[0m             \u001b[0;32melse\u001b[0m\u001b[0;34m:\u001b[0m\u001b[0;34m\u001b[0m\u001b[0;34m\u001b[0m\u001b[0m\n\u001b[1;32m    187\u001b[0m                 \u001b[0;32mraise\u001b[0m\u001b[0;34m\u001b[0m\u001b[0;34m\u001b[0m\u001b[0m\n",
      "\u001b[0;31mAnalysisException\u001b[0m: [UNRESOLVED_COLUMN.WITH_SUGGESTION] A column or function parameter with name `Attrition_Flag` cannot be resolved. Did you mean one of the following? [`Education_Level`, `Marital_Status`, `Credit_Limit`, `Customer_Age`, `Gender`].;\n'Filter ('Attrition_Flag = Attrited Customer)\n+- Project [customer_id#432, Customer_Age#433, Gender#434, Dependent_count#435, Education_Level#436, Marital_Status#437, Income_Category#438, Card_Category#439, Months_on_book#440, Total_Relationship_Count#441, Months_Inactive_12_mon#442, Contacts_Count_12_mon#443, Credit_Limit#444, Total_Revolving_Bal#445, Avg_Open_To_Buy#446, Total_Amt_Chng_Q4_Q1#447, Total_Trans_Amt#448, Total_Trans_Ct#449, Total_Ct_Chng_Q4_Q1#450, Avg_Utilization_Ratio#451]\n   +- Relation [_c0#431,customer_id#432,Customer_Age#433,Gender#434,Dependent_count#435,Education_Level#436,Marital_Status#437,Income_Category#438,Card_Category#439,Months_on_book#440,Total_Relationship_Count#441,Months_Inactive_12_mon#442,Contacts_Count_12_mon#443,Credit_Limit#444,Total_Revolving_Bal#445,Avg_Open_To_Buy#446,Total_Amt_Chng_Q4_Q1#447,Total_Trans_Amt#448,Total_Trans_Ct#449,Total_Ct_Chng_Q4_Q1#450,Avg_Utilization_Ratio#451] csv\n"
     ]
    }
   ],
   "source": [
    "from pyspark.sql import functions as F\n",
    "df.filter(F.col(\"Attrition_Flag\") == \"Attrited Customer\").limit(100).drop(\"Attrition_Flag\").toPandas().to_csv(\"src/resources/data/credit_test.csv\", header=True, index=False)"
   ]
  },
  {
   "cell_type": "code",
   "execution_count": null,
   "metadata": {},
   "outputs": [],
   "source": []
  },
  {
   "cell_type": "code",
   "execution_count": null,
   "metadata": {},
   "outputs": [],
   "source": []
  },
  {
   "cell_type": "code",
   "execution_count": null,
   "metadata": {},
   "outputs": [],
   "source": []
  }
 ],
 "metadata": {
  "application/vnd.databricks.v1+notebook": {
   "dashboards": [],
   "language": "python",
   "notebookMetadata": {
    "pythonIndentUnit": 2
   },
   "notebookName": "AR_dummy_data",
   "widgets": {}
  },
  "kernelspec": {
   "display_name": "Python 3 (ipykernel)",
   "language": "python",
   "name": "python3"
  },
  "language_info": {
   "codemirror_mode": {
    "name": "ipython",
    "version": 3
   },
   "file_extension": ".py",
   "mimetype": "text/x-python",
   "name": "python",
   "nbconvert_exporter": "python",
   "pygments_lexer": "ipython3",
   "version": "3.10.12"
  }
 },
 "nbformat": 4,
 "nbformat_minor": 1
}
