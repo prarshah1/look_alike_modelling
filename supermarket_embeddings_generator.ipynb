{
 "cells": [
  {
   "cell_type": "code",
   "execution_count": 1,
   "metadata": {
    "application/vnd.databricks.v1+cell": {
     "cellMetadata": {
      "byteLimit": 2048000,
      "rowLimit": 10000
     },
     "inputWidgets": {},
     "nuid": "19a22c2a-59ed-4a68-9d8e-5d03e21420a3",
     "showTitle": false,
     "title": ""
    }
   },
   "outputs": [],
   "source": [
    "data_path = \"src/resources/data/superstore.csv\""
   ]
  },
  {
   "cell_type": "code",
   "execution_count": 2,
   "metadata": {
    "application/vnd.databricks.v1+cell": {
     "cellMetadata": {
      "byteLimit": 2048000,
      "rowLimit": 10000
     },
     "inputWidgets": {},
     "nuid": "26b77078-c4a8-4b4e-9384-7b5691b68f95",
     "showTitle": false,
     "title": ""
    }
   },
   "outputs": [
    {
     "name": "stderr",
     "output_type": "stream",
     "text": [
      "24/08/26 12:20:24 WARN Utils: Your hostname, dvadmin-ThinkPad-E480 resolves to a loopback address: 127.0.1.1; using 192.168.0.15 instead (on interface wlp5s0)\n",
      "24/08/26 12:20:24 WARN Utils: Set SPARK_LOCAL_IP if you need to bind to another address\n",
      "Setting default log level to \"WARN\".\n",
      "To adjust logging level use sc.setLogLevel(newLevel). For SparkR, use setLogLevel(newLevel).\n",
      "24/08/26 12:20:34 WARN NativeCodeLoader: Unable to load native-hadoop library for your platform... using builtin-java classes where applicable\n",
      "24/08/26 12:20:37 WARN Utils: Service 'SparkUI' could not bind on port 4040. Attempting port 4041.\n",
      "24/08/26 12:20:37 WARN Utils: Service 'SparkUI' could not bind on port 4041. Attempting port 4042.\n",
      "24/08/26 12:20:37 WARN Utils: Service 'SparkUI' could not bind on port 4042. Attempting port 4043.\n",
      "                                                                                \r"
     ]
    },
    {
     "name": "stdout",
     "output_type": "stream",
     "text": [
      "+-----+----------+----------+--------------+------+-------+--------+-----------+-------+--------+---------+---------------+---------------+----------------+------------+-----------------+---------------+-------------------+-----------------+-----------------+--------+--------+\n",
      "|   Id|Year_Birth| Education|Marital_Status|Income|Kidhome|Teenhome|Dt_Customer|Recency|MntWines|MntFruits|MntMeatProducts|MntFishProducts|MntSweetProducts|MntGoldProds|NumDealsPurchases|NumWebPurchases|NumCatalogPurchases|NumStorePurchases|NumWebVisitsMonth|Response|Complain|\n",
      "+-----+----------+----------+--------------+------+-------+--------+-----------+-------+--------+---------+---------------+---------------+----------------+------------+-----------------+---------------+-------------------+-----------------+-----------------+--------+--------+\n",
      "| 1826|      1970|Graduation|      Divorced| 84835|      0|       0|  6/16/2014|      0|     189|      104|            379|            111|             189|         218|                1|              4|                  4|                6|                1|       1|       0|\n",
      "|    1|      1961|Graduation|        Single| 57091|      0|       0|  6/15/2014|      0|     464|        5|             64|              7|               0|          37|                1|              7|                  3|                7|                5|       1|       0|\n",
      "|10476|      1958|Graduation|       Married| 67267|      0|       1|  5/13/2014|      0|     134|       11|             59|             15|               2|          30|                1|              3|                  2|                5|                2|       0|       0|\n",
      "| 1386|      1967|Graduation|      Together| 32474|      1|       1|  11/5/2014|      0|      10|        0|              1|              0|               0|           0|                1|              1|                  0|                2|                7|       0|       0|\n",
      "| 5371|      1989|Graduation|        Single| 21474|      1|       0|   8/4/2014|      0|       6|       16|             24|             11|               0|          34|                2|              3|                  1|                2|                7|       1|       0|\n",
      "+-----+----------+----------+--------------+------+-------+--------+-----------+-------+--------+---------+---------------+---------------+----------------+------------+-----------------+---------------+-------------------+-----------------+-----------------+--------+--------+\n",
      "\n"
     ]
    }
   ],
   "source": [
    "from pyspark.sql import SparkSession\n",
    "\n",
    "spark = SparkSession.builder.appName(\"customer_look_alike_modelling\").getOrCreate()\n",
    "df = spark.read.option(\"header\", \"true\").csv(data_path)\n",
    "df.limit(5).show()"
   ]
  },
  {
   "cell_type": "code",
   "execution_count": 3,
   "metadata": {},
   "outputs": [],
   "source": [
    "from pyspark.sql import functions as F\n",
    "from pyspark.sql.types import IntegerType\n",
    "\n",
    "current_date = spark.sql(\"SELECT CURRENT_DATE()\").collect()[0][0]\n",
    "df = df.withColumn(\"Curr_Date\", F.lit(current_date)).withColumn(\"MonthsCustomer\", F.months_between(F.col(\"Curr_Date\"), F.to_date(F.col(\"DT_customer\"), \"M/d/yyyy\")).cast(IntegerType())).drop(\"DT_customer\", \"Curr_Date\")"
   ]
  },
  {
   "cell_type": "code",
   "execution_count": 4,
   "metadata": {},
   "outputs": [
    {
     "data": {
      "text/plain": [
       "['Id',\n",
       " 'Year_Birth',\n",
       " 'Education',\n",
       " 'Marital_Status',\n",
       " 'Income',\n",
       " 'Kidhome',\n",
       " 'Teenhome',\n",
       " 'Recency',\n",
       " 'MntWines',\n",
       " 'MntFruits',\n",
       " 'MntMeatProducts',\n",
       " 'MntFishProducts',\n",
       " 'MntSweetProducts',\n",
       " 'MntGoldProds',\n",
       " 'NumDealsPurchases',\n",
       " 'NumWebPurchases',\n",
       " 'NumCatalogPurchases',\n",
       " 'NumStorePurchases',\n",
       " 'NumWebVisitsMonth',\n",
       " 'Response',\n",
       " 'Complain',\n",
       " 'MonthsCustomer']"
      ]
     },
     "execution_count": 4,
     "metadata": {},
     "output_type": "execute_result"
    }
   ],
   "source": [
    "df.columns"
   ]
  },
  {
   "cell_type": "code",
   "execution_count": 5,
   "metadata": {
    "application/vnd.databricks.v1+cell": {
     "cellMetadata": {
      "byteLimit": 2048000,
      "rowLimit": 10000
     },
     "inputWidgets": {},
     "nuid": "70064537-447a-48f3-ad94-580c876ecc8e",
     "showTitle": false,
     "title": ""
    }
   },
   "outputs": [
    {
     "data": {
      "text/plain": [
       "['Year_Birth',\n",
       " 'Education',\n",
       " 'Marital_Status',\n",
       " 'Income',\n",
       " 'Kidhome',\n",
       " 'Teenhome',\n",
       " 'Recency',\n",
       " 'MntWines',\n",
       " 'MntFruits',\n",
       " 'MntMeatProducts',\n",
       " 'MntFishProducts',\n",
       " 'MntSweetProducts',\n",
       " 'MntGoldProds',\n",
       " 'NumDealsPurchases',\n",
       " 'NumWebPurchases',\n",
       " 'NumCatalogPurchases',\n",
       " 'NumStorePurchases',\n",
       " 'NumWebVisitsMonth',\n",
       " 'Complain',\n",
       " 'MonthsCustomer']"
      ]
     },
     "execution_count": 5,
     "metadata": {},
     "output_type": "execute_result"
    }
   ],
   "source": [
    "\n",
    "# rename to cols_to_convert\n",
    "# rows_to_convert = \"job_titles_cont,city_pl\".split(\",\")\n",
    "rows_to_convert = df.columns\n",
    "rows_to_convert.remove(\"Id\")\n",
    "rows_to_convert.remove(\"Response\")\n",
    "rows_to_convert"
   ]
  },
  {
   "cell_type": "code",
   "execution_count": 6,
   "metadata": {},
   "outputs": [
    {
     "data": {
      "text/plain": [
       "'Year_Birth,Education,Marital_Status,Income,Kidhome,Teenhome,Recency,MntWines,MntFruits,MntMeatProducts,MntFishProducts,MntSweetProducts,MntGoldProds,NumDealsPurchases,NumWebPurchases,NumCatalogPurchases,NumStorePurchases,NumWebVisitsMonth,Complain,MonthsCustomer'"
      ]
     },
     "execution_count": 6,
     "metadata": {},
     "output_type": "execute_result"
    }
   ],
   "source": [
    "\",\".join(rows_to_convert)"
   ]
  },
  {
   "cell_type": "code",
   "execution_count": 7,
   "metadata": {},
   "outputs": [
    {
     "name": "stderr",
     "output_type": "stream",
     "text": [
      "                                                                                \r"
     ]
    },
    {
     "data": {
      "text/plain": [
       "(1906, 334)"
      ]
     },
     "execution_count": 7,
     "metadata": {},
     "output_type": "execute_result"
    }
   ],
   "source": [
    "df.filter(F.col(\"Response\") == 0).count(), df.filter(F.col(\"Response\") == 1).count()"
   ]
  },
  {
   "cell_type": "code",
   "execution_count": 8,
   "metadata": {},
   "outputs": [
    {
     "ename": "TypeError",
     "evalue": "DataFrame.filter() missing 1 required positional argument: 'condition'",
     "output_type": "error",
     "traceback": [
      "\u001b[0;31m---------------------------------------------------------------------------\u001b[0m",
      "\u001b[0;31mTypeError\u001b[0m                                 Traceback (most recent call last)",
      "Cell \u001b[0;32mIn[8], line 1\u001b[0m\n\u001b[0;32m----> 1\u001b[0m \u001b[43mdf\u001b[49m\u001b[38;5;241;43m.\u001b[39;49m\u001b[43mfilter\u001b[49m\u001b[43m(\u001b[49m\u001b[43m)\u001b[49m\n",
      "\u001b[0;31mTypeError\u001b[0m: DataFrame.filter() missing 1 required positional argument: 'condition'"
     ]
    }
   ],
   "source": [
    "df.filter()"
   ]
  },
  {
   "cell_type": "code",
   "execution_count": 9,
   "metadata": {},
   "outputs": [
    {
     "name": "stderr",
     "output_type": "stream",
     "text": [
      "                                                                                \r"
     ]
    }
   ],
   "source": [
    "df.drop(\"Response\").toPandas().to_csv(\"src/resources/data/superstore_master.csv\", header=True, index=False)"
   ]
  },
  {
   "cell_type": "code",
   "execution_count": 10,
   "metadata": {},
   "outputs": [
    {
     "name": "stderr",
     "output_type": "stream",
     "text": [
      "/home/dvadmin/look_alike_modelling_streamlit/venv/lib/python3.10/site-packages/tqdm/auto.py:21: TqdmWarning: IProgress not found. Please update jupyter and ipywidgets. See https://ipywidgets.readthedocs.io/en/stable/user_install.html\n",
      "  from .autonotebook import tqdm as notebook_tqdm\n",
      "/home/dvadmin/look_alike_modelling_streamlit/venv/lib/python3.10/site-packages/transformers/tokenization_utils_base.py:1601: FutureWarning: `clean_up_tokenization_spaces` was not set. It will be set to `True` by default. This behavior will be depracted in transformers v4.45, and will be then set to `False` by default. For more details check this issue: https://github.com/huggingface/transformers/issues/31884\n",
      "  warnings.warn(\n"
     ]
    }
   ],
   "source": [
    "from src.utils.functions import get_row_as_text, hf_embeddings, get_ars_retrieved_df\n",
    "train_df = get_row_as_text(df, rows_to_convert)"
   ]
  },
  {
   "cell_type": "code",
   "execution_count": null,
   "metadata": {},
   "outputs": [],
   "source": []
  },
  {
   "cell_type": "code",
   "execution_count": 11,
   "metadata": {
    "application/vnd.databricks.v1+cell": {
     "cellMetadata": {
      "byteLimit": 2048000,
      "rowLimit": 10000
     },
     "inputWidgets": {},
     "nuid": "bb2ae051-0b66-4773-8c61-c9df8cc533eb",
     "showTitle": false,
     "title": ""
    }
   },
   "outputs": [
    {
     "name": "stdout",
     "output_type": "stream",
     "text": [
      "+------------------------------------------------------------------------------------------------------------------------------------------------------------------------------------------------------------------------------------------------------------------------------------------------------------------------------------------------------------------------------------------+\n",
      "|row_as_text                                                                                                                                                                                                                                                                                                                                                                               |\n",
      "+------------------------------------------------------------------------------------------------------------------------------------------------------------------------------------------------------------------------------------------------------------------------------------------------------------------------------------------------------------------------------------------+\n",
      "|Year_Birth: 1970; Education: Graduation; Marital_Status: Divorced; Income: 84835; Kidhome: 0; Teenhome: 0; Recency: 0; MntWines: 189; MntFruits: 104; MntMeatProducts: 379; MntFishProducts: 111; MntSweetProducts: 189; MntGoldProds: 218; NumDealsPurchases: 1; NumWebPurchases: 4; NumCatalogPurchases: 4; NumStorePurchases: 6; NumWebVisitsMonth: 1; Complain: 0; MonthsCustomer: 122|\n",
      "|Year_Birth: 1961; Education: Graduation; Marital_Status: Single; Income: 57091; Kidhome: 0; Teenhome: 0; Recency: 0; MntWines: 464; MntFruits: 5; MntMeatProducts: 64; MntFishProducts: 7; MntSweetProducts: 0; MntGoldProds: 37; NumDealsPurchases: 1; NumWebPurchases: 7; NumCatalogPurchases: 3; NumStorePurchases: 7; NumWebVisitsMonth: 5; Complain: 0; MonthsCustomer: 122          |\n",
      "+------------------------------------------------------------------------------------------------------------------------------------------------------------------------------------------------------------------------------------------------------------------------------------------------------------------------------------------------------------------------------------------+\n",
      "only showing top 2 rows\n",
      "\n"
     ]
    }
   ],
   "source": [
    "train_df.select(\"row_as_text\").show(2, truncate=False)"
   ]
  },
  {
   "cell_type": "code",
   "execution_count": 12,
   "metadata": {
    "application/vnd.databricks.v1+cell": {
     "cellMetadata": {
      "byteLimit": 2048000,
      "rowLimit": 10000
     },
     "inputWidgets": {},
     "nuid": "b9417325-8389-445a-91c8-23a24ab14737",
     "showTitle": false,
     "title": ""
    }
   },
   "outputs": [
    {
     "name": "stdout",
     "output_type": "stream",
     "text": [
      "root\n",
      " |-- Id: string (nullable = true)\n",
      " |-- Year_Birth: string (nullable = true)\n",
      " |-- Education: string (nullable = true)\n",
      " |-- Marital_Status: string (nullable = true)\n",
      " |-- Income: string (nullable = true)\n",
      " |-- Kidhome: string (nullable = true)\n",
      " |-- Teenhome: string (nullable = true)\n",
      " |-- Recency: string (nullable = true)\n",
      " |-- MntWines: string (nullable = true)\n",
      " |-- MntFruits: string (nullable = true)\n",
      " |-- MntMeatProducts: string (nullable = true)\n",
      " |-- MntFishProducts: string (nullable = true)\n",
      " |-- MntSweetProducts: string (nullable = true)\n",
      " |-- MntGoldProds: string (nullable = true)\n",
      " |-- NumDealsPurchases: string (nullable = true)\n",
      " |-- NumWebPurchases: string (nullable = true)\n",
      " |-- NumCatalogPurchases: string (nullable = true)\n",
      " |-- NumStorePurchases: string (nullable = true)\n",
      " |-- NumWebVisitsMonth: string (nullable = true)\n",
      " |-- Response: string (nullable = true)\n",
      " |-- Complain: string (nullable = true)\n",
      " |-- MonthsCustomer: integer (nullable = true)\n",
      " |-- row_as_text: string (nullable = false)\n",
      "\n"
     ]
    }
   ],
   "source": [
    "train_df.printSchema()"
   ]
  },
  {
   "cell_type": "code",
   "execution_count": null,
   "metadata": {
    "application/vnd.databricks.v1+cell": {
     "cellMetadata": {
      "byteLimit": 2048000,
      "rowLimit": 10000
     },
     "inputWidgets": {},
     "nuid": "089d7000-fd73-4657-a2fd-30e6059d0083",
     "showTitle": false,
     "title": ""
    }
   },
   "outputs": [],
   "source": []
  },
  {
   "cell_type": "code",
   "execution_count": 13,
   "metadata": {
    "application/vnd.databricks.v1+cell": {
     "cellMetadata": {
      "byteLimit": 2048000,
      "rowLimit": 10000
     },
     "inputWidgets": {},
     "nuid": "7a7d024e-68b2-4501-baaf-0255e7470c0d",
     "showTitle": false,
     "title": ""
    }
   },
   "outputs": [
    {
     "name": "stderr",
     "output_type": "stream",
     "text": [
      "                                                                                \r"
     ]
    },
    {
     "data": {
      "text/plain": [
       "Row(Id='1826', Year_Birth='1970', Education='Graduation', Marital_Status='Divorced', Income='84835', Kidhome='0', Teenhome='0', Recency='0', MntWines='189', MntFruits='104', MntMeatProducts='379', MntFishProducts='111', MntSweetProducts='189', MntGoldProds='218', NumDealsPurchases='1', NumWebPurchases='4', NumCatalogPurchases='4', NumStorePurchases='6', NumWebVisitsMonth='1', Response='1', Complain='0', MonthsCustomer=122, row_as_text='Year_Birth: 1970; Education: Graduation; Marital_Status: Divorced; Income: 84835; Kidhome: 0; Teenhome: 0; Recency: 0; MntWines: 189; MntFruits: 104; MntMeatProducts: 379; MntFishProducts: 111; MntSweetProducts: 189; MntGoldProds: 218; NumDealsPurchases: 1; NumWebPurchases: 4; NumCatalogPurchases: 4; NumStorePurchases: 6; NumWebVisitsMonth: 1; Complain: 0; MonthsCustomer: 122')"
      ]
     },
     "execution_count": 13,
     "metadata": {},
     "output_type": "execute_result"
    }
   ],
   "source": [
    "step = 1000\n",
    "k = 4000\n",
    "\n",
    "texts_list = train_df.rdd.collect()\n",
    "# texts_list = [x[0] for x in texts_label_list]\n",
    "# texts_list\n",
    "texts_list[0]"
   ]
  },
  {
   "cell_type": "code",
   "execution_count": 15,
   "metadata": {},
   "outputs": [],
   "source": [
    "import os\n",
    "\n",
    "# Specify the path of the directory you want to create\n",
    "db_dir = \"src/resources/embeddings/superstore\"\n",
    "\n",
    "# Create the directory\n",
    "os.makedirs(db_dir, exist_ok=True)"
   ]
  },
  {
   "cell_type": "code",
   "execution_count": 34,
   "metadata": {},
   "outputs": [],
   "source": [
    "from langchain.vectorstores import Chroma\n",
    "from src.utils.functions import hf_embeddings\n",
    "import chromadb\n",
    "import os\n",
    "\n",
    "client = chromadb.PersistentClient(path=db_dir)\n",
    "\n",
    "vdb = Chroma(persist_directory=db_dir, embedding_function=hf_embeddings,\n",
    "                 collection_metadata={\"hnsw:space\": \"cosine\"}, client=client)"
   ]
  },
  {
   "cell_type": "code",
   "execution_count": 17,
   "metadata": {
    "application/vnd.databricks.v1+cell": {
     "cellMetadata": {
      "byteLimit": 2048000,
      "rowLimit": 10000
     },
     "inputWidgets": {},
     "nuid": "51e8522a-c532-4a1b-8352-c027c0a875f6",
     "showTitle": false,
     "title": ""
    }
   },
   "outputs": [],
   "source": [
    "from langchain.vectorstores import Chroma\n",
    "vdb = Chroma(persist_directory=db_dir, embedding_function=hf_embeddings, collection_metadata={\"hnsw:space\": \"cosine\"})\n",
    "for i in range(0, len(texts_list), step):\n",
    "    texts = [x.row_as_text for x in texts_list[i:i+step]]\n",
    "    metadata = [{\"Id\": str(x.Id)} for x in texts_list[i:i+step]]\n",
    "    vdb.add_texts(texts, metadata)\n",
    "\n",
    "vdb.persist()"
   ]
  },
  {
   "cell_type": "code",
   "execution_count": 16,
   "metadata": {},
   "outputs": [
    {
     "ename": "AttributeError",
     "evalue": "module 'chromadb' has no attribute 'PersistentClient'",
     "output_type": "error",
     "traceback": [
      "\u001b[0;31m---------------------------------------------------------------------------\u001b[0m",
      "\u001b[0;31mAttributeError\u001b[0m                            Traceback (most recent call last)",
      "Cell \u001b[0;32mIn[16], line 5\u001b[0m\n\u001b[1;32m      2\u001b[0m \u001b[38;5;28;01mfrom\u001b[39;00m \u001b[38;5;21;01msrc\u001b[39;00m\u001b[38;5;21;01m.\u001b[39;00m\u001b[38;5;21;01mutils\u001b[39;00m\u001b[38;5;21;01m.\u001b[39;00m\u001b[38;5;21;01mfunctions\u001b[39;00m \u001b[38;5;28;01mimport\u001b[39;00m hf_embeddings\n\u001b[1;32m      3\u001b[0m \u001b[38;5;28;01mimport\u001b[39;00m \u001b[38;5;21;01mchromadb\u001b[39;00m\n\u001b[0;32m----> 5\u001b[0m client \u001b[38;5;241m=\u001b[39m \u001b[43mchromadb\u001b[49m\u001b[38;5;241;43m.\u001b[39;49m\u001b[43mPersistentClient\u001b[49m(path\u001b[38;5;241m=\u001b[39mdb_dir)\n\u001b[1;32m      7\u001b[0m vdb \u001b[38;5;241m=\u001b[39m Chroma(persist_directory\u001b[38;5;241m=\u001b[39mdb_dir, embedding_function\u001b[38;5;241m=\u001b[39mhf_embeddings,\n\u001b[1;32m      8\u001b[0m                  collection_metadata\u001b[38;5;241m=\u001b[39m{\u001b[38;5;124m\"\u001b[39m\u001b[38;5;124mhnsw:space\u001b[39m\u001b[38;5;124m\"\u001b[39m: \u001b[38;5;124m\"\u001b[39m\u001b[38;5;124mcosine\u001b[39m\u001b[38;5;124m\"\u001b[39m}, client\u001b[38;5;241m=\u001b[39mclient)\n",
      "\u001b[0;31mAttributeError\u001b[0m: module 'chromadb' has no attribute 'PersistentClient'"
     ]
    }
   ],
   "source": [
    "from langchain.vectorstores import Chroma\n",
    "from src.utils.functions import hf_embeddings\n",
    "import chromadb\n",
    "\n",
    "client = chromadb.PersistentClient(path=db_dir)\n",
    "\n",
    "vdb = Chroma(persist_directory=db_dir, embedding_function=hf_embeddings,\n",
    "                 collection_metadata={\"hnsw:space\": \"cosine\"}, client=client)"
   ]
  },
  {
   "cell_type": "code",
   "execution_count": 18,
   "metadata": {},
   "outputs": [
    {
     "data": {
      "text/plain": [
       "2240"
      ]
     },
     "execution_count": 18,
     "metadata": {},
     "output_type": "execute_result"
    }
   ],
   "source": [
    "vdb._collection.count()"
   ]
  },
  {
   "cell_type": "code",
   "execution_count": 38,
   "metadata": {},
   "outputs": [
    {
     "data": {
      "text/plain": [
       "'src/resources/embeddings/superstore'"
      ]
     },
     "execution_count": 38,
     "metadata": {},
     "output_type": "execute_result"
    }
   ],
   "source": [
    "train_df.groupBy(\"Response\").count().show()"
   ]
  },
  {
   "cell_type": "code",
   "execution_count": 41,
   "metadata": {},
   "outputs": [],
   "source": [
    "train_df.filter(F.col(\"Response\") == 1).drop(\"row_as_text\").limit(50).toPandas().to_csv(\"src/resources/data/superstore_test.csv\", header=True, index=False)"
   ]
  },
  {
   "cell_type": "code",
   "execution_count": 26,
   "metadata": {},
   "outputs": [],
   "source": [
    "# spark.read.option(\"header\", \"true\").csv(\"src/resources/data/movie_test.csv\").show()"
   ]
  },
  {
   "cell_type": "code",
   "execution_count": 39,
   "metadata": {},
   "outputs": [
    {
     "name": "stdout",
     "output_type": "stream",
     "text": [
      "+--------+-----+\n",
      "|Response|count|\n",
      "+--------+-----+\n",
      "|       0| 1906|\n",
      "|       1|  334|\n",
      "+--------+-----+\n",
      "\n"
     ]
    }
   ],
   "source": [
    "train_df.groupBy(\"Response\").count().show()"
   ]
  },
  {
   "cell_type": "code",
   "execution_count": null,
   "metadata": {},
   "outputs": [],
   "source": []
  },
  {
   "cell_type": "code",
   "execution_count": null,
   "metadata": {},
   "outputs": [],
   "source": []
  },
  {
   "cell_type": "code",
   "execution_count": 11,
   "metadata": {},
   "outputs": [],
   "source": [
    "df_input = spark.read.option(\"header\", \"true\").csv(\"src/resources/data/superstore_test.csv\")"
   ]
  },
  {
   "cell_type": "code",
   "execution_count": 19,
   "metadata": {},
   "outputs": [],
   "source": [
    "df_input.drop(\"Response\").toPandas().to_csv(\"src/resources/data/superstore_test.csv\", header=True, index=False)"
   ]
  },
  {
   "cell_type": "code",
   "execution_count": null,
   "metadata": {},
   "outputs": [],
   "source": []
  },
  {
   "cell_type": "code",
   "execution_count": null,
   "metadata": {},
   "outputs": [],
   "source": []
  },
  {
   "cell_type": "code",
   "execution_count": null,
   "metadata": {},
   "outputs": [],
   "source": []
  },
  {
   "cell_type": "code",
   "execution_count": null,
   "metadata": {},
   "outputs": [],
   "source": []
  }
 ],
 "metadata": {
  "application/vnd.databricks.v1+notebook": {
   "dashboards": [],
   "language": "python",
   "notebookMetadata": {
    "pythonIndentUnit": 2
   },
   "notebookName": "AR_dummy_data",
   "widgets": {}
  },
  "kernelspec": {
   "display_name": "Python 3 (ipykernel)",
   "language": "python",
   "name": "python3"
  },
  "language_info": {
   "codemirror_mode": {
    "name": "ipython",
    "version": 3
   },
   "file_extension": ".py",
   "mimetype": "text/x-python",
   "name": "python",
   "nbconvert_exporter": "python",
   "pygments_lexer": "ipython3",
   "version": "3.10.12"
  }
 },
 "nbformat": 4,
 "nbformat_minor": 1
}
